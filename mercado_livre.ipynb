{
  "nbformat": 4,
  "nbformat_minor": 0,
  "metadata": {
    "colab": {
      "provenance": []
    },
    "kernelspec": {
      "name": "python3",
      "display_name": "Python 3"
    },
    "language_info": {
      "name": "python"
    }
  },
  "cells": [
    {
      "cell_type": "code",
      "execution_count": null,
      "metadata": {
        "colab": {
          "base_uri": "https://localhost:8080/"
        },
        "id": "c2xA2AjHduqC",
        "outputId": "7debdae9-c6f3-4a84-dcb9-e6c331fc9a4e"
      },
      "outputs": [
        {
          "output_type": "stream",
          "name": "stdout",
          "text": [
            "oq deseja pesquisar?: rx 6800\n",
            "Placa De Video Xfx 16gb Amd Rx6800 Gddr6 Speedster Swft319 - R$ 5.799\n",
            "Placa de vídeo AMD Asus  TUF Gaming Radeon 6800 Series RX 6800 XT TUF-RX6800XT-O16G-GAMING OC Edition 16GB - R$ 6.599\n",
            "Placa De Video Amd Radeon Rx 6800xt 16gb Gddr6 256 Bits Trip - R$ 8.365\n",
            "Placa de vídeo Nvidia Gainward  Phoenix GeForce RTX 30 Series RTX 3080 NED3080019IA-132AX 10GB - R$ 7.289\n",
            "Placa de vídeo Nvidia Galax  EX GeForce GTX 16 Series GTX 1650 65SQL8DS66E6 4GB - R$ 1.317\n",
            "Amd Radeon Rx 6800xt 16gb Gddr6 256 Bits Graffiti Series - R$ 7.199\n",
            "Placa de vídeo AMD PowerColor  Red Dragon Radeon 6800 Series RX 6800 XT AXRX 6800XT 16GBD6-3DHR/OC 16GB - R$ 7.325\n",
            "Placa de vídeo AMD PowerColor  Red Devil Radeon 6900 Series RX 6900 XT AXRX 6900XT 16GBD6-3DHE/OC OC Edition 16GB - R$ 8.912\n",
            "Amd Radeon Rx 6800xt 16gb Gddr6 256 Bits Graffiti Series - R$ 6.789\n",
            "Placa de vídeo Nvidia Gainward  Phoenix GeForce RTX 30 Series RTX 3070 NE63070019P2-1041X 8GB - R$ 4.379\n",
            "Placa De Video Amd Radeon Rx 6800xt 16gb Gddr6 256 Bits Trip - R$ 8.365\n",
            "Placa de vídeo Nvidia Dex  GeForce 500 Series GTX 550 Ti PV-05 1GB - R$ 429\n",
            "Placa De Vídeo Powercolor Amd Rx 6800xt - 16gb, 256bits - R$ 7.185\n",
            "Placa de vídeo Nvidia Galax  GeForce RTX 30 Series RTX 3060 36NOL7MD1VOC 12GB - R$ 2.485\n",
            "Placa de vídeo Nvidia Galax  GeForce 700 Series GT 710 71GGF4DC00WG 1GB - R$ 229\n",
            "Placa de vídeo Nvidia Afox  GeForce 600 Series GT 610 AF610-2048D3L7-V5 2GB - R$ 252\n",
            "Placa de vídeo Nvidia Zotac  Gaming GeForce RTX 30 Series RTX 3070 ZT-A30700H-10P OC Edition 8GB - R$ 5.494\n",
            "Placa de vídeo AMD Sapphire  Nitro+ Radeon 6700 Series RX 6700 XT 11306-01-20G 12GB - R$ 4.439\n",
            "Placa de vídeo Nvidia Pcyes  GeForce 700 Series GTX 750 Ti PPV750TI12802D5 2GB - R$ 790\n",
            "Placa de vídeo AMD PowerColor  Hellhound Radeon 6600 Series RX 6600 AXRX 6600 8GBD6-3DHL 8GB - R$ 2.297\n",
            "Placa de vídeo AMD MSI  Armor Radeon RX 500 Series RX 580 RADEON RX 580 ARMOR 8G OC OC Edition 8GB - R$ 4.237\n",
            "Placa de vídeo AMD Asus  Dual Radeon 6600 Series RX 6600 XT DUAL-RX6600XT-O8G OC Edition 8GB - R$ 3.199\n",
            "Placa de vídeo Nvidia Afox  GeForce 400 Series GT 420 AF420-2048D3L2-V2 2GB - R$ 328\n",
            "Placa de vídeo Nvidia Afox  GeForce 200 Series G210 AF210-1024D3L8 1GB - R$ 212\n",
            "Placa Asus Rx6800 16gb Tuf Gamers Com 3 Anos De Garantia - R$ 5.990\n",
            "Placa de vídeo AMD Asus  Dual Radeon 6600 Series RX 6600 DUAL-RX6600-8G 8GB - R$ 3.999\n",
            "Placa De Video Powercolor Amd Radeon Rx6800xt Reddragon 16gb - R$ 2.800\n",
            "Placa De Video Amd Radeon Red Devil Rx 6800 Xt 16gb Gddr6 - R$ 3.800\n",
            "Placa De Video Powercolor Radeon Rx 6800xt Red Devil 16gb - R$ 2.800\n",
            "Red Devil Radeon Rx 6800 Xt - R$ 3.499\n",
            "Placa Vídeo Amd  Radeon Rx 6800 Oc Series 16gb - Garantia! - R$ 3.400\n",
            "Placa De Video Asrock Rx 6800 16gb Phantom Gaming Oc Edition - R$ 4.199\n",
            "Placa De Vídeo Gigabyte Radeon Rx 6800 Xt, 16 Gb, Gddr6, Rgb - R$ 3.700\n",
            "Asrock Rx 6800 Xt Amd Radeon - R$ 3.750\n",
            "Placa De Video Amd Radeon Rx 6800 Asus Tuf Gaming 16gb - R$ 4.099\n",
            "Placa De Vídeo Power Color Amd Rx6800 Xt Axrx  , 16.0 Gbps - R$ 5.000\n",
            "Desconto Placa De Vídeo Amd Sapphire Nitro+ Radeon Rx 6700 ! - R$ 2.999\n",
            "Sapphire  Pulse Radeon Rx 6800 11305-02-20g 16gb - Usada - R$ 3.250\n",
            "Placa De Video Gigabyte Radeon Rx 6800 Xt 16gb - R$ 4.300\n",
            "Gpu Placa De Vídeo Rx 6800 Amd Powercolor Reddragon  Oc 16gb - R$ 3.600\n",
            "Placa De Vídeo 4k-uhd -8k-stream- Amd Gigabyte Rx6800 Xt 16g - R$ 4.299\n",
            "Placa De Vídeo Amd  Gaming Radeon  Rx 6800 16gb Swift 319 - R$ 5.800\n",
            "Gpu Placa De Vídeo Rx 6800 Amd Powercolor Reddragon  Oc 16gb - R$ 3.000\n",
            "Placa de vídeo AMD Pcyes  Graffiti Series Radeon RX 500 Series RX 550 PAJRX550DR5DF 4GB - R$ 832\n",
            "Placa De Video Mancer Radeon Rx 550 4gb Gddr5 128-bit - R$ 1.129\n",
            "Placa de vídeo AMD PowerColor  Hellhound Radeon RX 6700 Series RX 6700 XT AXRX 6700XT 12GBD6-3DHL 12GB - R$ 3.400\n",
            "Placa de vídeo AMD Pcyes  Radeon RX 500 Series RX 550 PJRX550DR5128B 4GB - R$ 776\n",
            "Placa De Video Mancer Radeon Rx 550 4gb Gddr5 128-bit - R$ 1.129\n"
          ]
        }
      ],
      "source": [
        "import requests\n",
        "from bs4 import BeautifulSoup\n",
        "pesquisa = str(input(\"oq deseja pesquisar?: \"))\n",
        "\n",
        "url = f'https://lista.mercadolivre.com.br/{pesquisa}'\n",
        "\n",
        "response = requests.get(url)\n",
        "\n",
        "soup = BeautifulSoup(response.text, 'html.parser')\n",
        "\n",
        "items = soup.find_all('div', {'class': 'ui-search-result__content-wrapper'})\n",
        "\n",
        "for item in items:\n",
        "    name = item.find('h2', {'class': 'ui-search-item__title'}).text.strip()\n",
        "    price = item.find('span', {'class': 'price-tag-fraction'}).text.strip()\n",
        "    print(name, '-', 'R$', price)\n"
      ]
    },
    {
      "cell_type": "code",
      "source": [
        "import requests\n",
        "from bs4 import BeautifulSoup\n",
        "\n",
        "url = 'https://www.mercadolivre.com.br/fone-de-ouvido-over-ear-gamer-warrior-rama-ph219-preto-e-vermelho-com-luz-vermelho-led/p/MLB15342395?pdp_filters=category:MLB1664#searchVariation=MLB15342395&position=4&search_layout=grid&type=product&tracking_id=188c6e44-3af0-45c2-9505-ea866fe9e3e7'\n",
        "\n",
        "response = requests.get(url)\n",
        "\n",
        "soup = BeautifulSoup(response.content, 'html.parser')\n",
        "\n",
        "comments = soup.find_all('div', {'class': 'review__content'})\n",
        "\n",
        "comments_list = []\n",
        "\n",
        "for comment in comments:\n",
        "    comment_text = comment.find('div', {'class': 'review__content-text'}).text.strip()\n",
        "    comments_list.append(comment_text)\n",
        "\n",
        "print(comments_list)"
      ],
      "metadata": {
        "colab": {
          "base_uri": "https://localhost:8080/"
        },
        "id": "Y754XiiCeHQG",
        "outputId": "7eefa051-e514-4d4c-f202-e6df279dc488"
      },
      "execution_count": null,
      "outputs": [
        {
          "output_type": "stream",
          "name": "stdout",
          "text": [
            "[]\n"
          ]
        }
      ]
    },
    {
      "cell_type": "code",
      "source": [
        "import requests\n",
        "from bs4 import BeautifulSoup\n",
        "\n",
        "url = 'https://www.mercadolivre.com.br/fone-de-ouvido-over-ear-gamer-warrior-rama-ph219-preto-e-vermelho-com-luz-vermelho-led/p/MLB15342395?pdp_filters=category:MLB1664#searchVariation=MLB15342395&position=4&search_layout=stack&type=product&tracking_id=aa64e76e-61a9-4642-9fb3-960865e118c3'\n",
        "\n",
        "response = requests.get(url)\n",
        "\n",
        "soup = BeautifulSoup(response.content, 'html.parser')\n",
        "\n",
        "comments = soup.find_all('p', {'class': 'ui-review-capability-comments__comment__content'})\n",
        "print(comments)\n",
        "\n",
        "comments_list = []\n",
        "\n",
        "for comment in comments:\n",
        "    comment_text = comment.find('p', {'class': 'feedback-item__message'}).text.strip()\n",
        "    comments_list.append(comment_text)\n",
        "\n",
        "print(comments_list)"
      ],
      "metadata": {
        "colab": {
          "base_uri": "https://localhost:8080/"
        },
        "id": "bn01qPMjemem",
        "outputId": "56837797-7a77-4728-d9c9-a8eef64ca2a7"
      },
      "execution_count": null,
      "outputs": [
        {
          "output_type": "stream",
          "name": "stdout",
          "text": [
            "[]\n",
            "[]\n"
          ]
        }
      ]
    },
    {
      "cell_type": "code",
      "source": [
        "import requests\n",
        "from bs4 import BeautifulSoup\n",
        "\n",
        "url = 'https://www.mercadolivre.com.br/fone-de-ouvido-over-ear-gamer-warrior-rama-ph219-preto-e-vermelho-com-luz-vermelho-led/p/MLB15342395?pdp_filters=category:MLB1664#searchVariation=MLB15342395&position=4&search_layout=grid&type=product&tracking_id=188c6e44-3af0-45c2-9505-ea866fe9e3e7'\n",
        "\n",
        "response = requests.get(url)\n",
        "\n",
        "soup = BeautifulSoup(response.content, 'html.parser')\n",
        "\n",
        "comments = soup.find_all('div', {'class': 'feedback-item__body'})\n",
        "\n",
        "comments_list = []\n",
        "\n",
        "for comment in comments:\n",
        "    comment_text = comment.find('p', {'class': 'feedback-item__message'}).text.strip()\n",
        "    comments_list.append(comment_text)\n",
        "\n",
        "print(comments_list)"
      ],
      "metadata": {
        "colab": {
          "base_uri": "https://localhost:8080/"
        },
        "id": "hq6Z9f71gbVr",
        "outputId": "a6d97f21-09f8-4d49-d94e-f9236bf3f270"
      },
      "execution_count": null,
      "outputs": [
        {
          "output_type": "stream",
          "name": "stdout",
          "text": [
            "[]\n"
          ]
        }
      ]
    },
    {
      "cell_type": "code",
      "source": [
        "import requests\n",
        "from bs4 import BeautifulSoup\n",
        "\n",
        "url = 'https://www.mercadolivre.com.br/fone-de-ouvido-over-ear-gamer-warrior-rama-ph219-preto-e-vermelho-com-luz-vermelho-led/p/MLB15342395?pdp_filters=category:MLB1664#searchVariation=MLB15342395&position=4&search_layout=grid&type=product&tracking_id=188c6e44-3af0-45c2-9505-ea866fe9e3e7'\n",
        "\n",
        "response = requests.get(url)\n",
        "soup = BeautifulSoup(response.text, 'html.parser')\n",
        "\n",
        "avaliacoes = soup.find_all('div', class_='ui-pdp-reviews__review')\n",
        "comentarios = []\n",
        "\n",
        "for avaliacao in avaliacoes:\n",
        "    comentario = avaliacao.find('div', class_='ui-pdp-reviews__comments').get_text(strip=True)\n",
        "    comentarios.append(comentario)\n",
        "\n",
        "print(comentarios)"
      ],
      "metadata": {
        "colab": {
          "base_uri": "https://localhost:8080/"
        },
        "id": "l6JjDCsjhEJc",
        "outputId": "cd065926-1575-4c03-e25e-ab78cc513585"
      },
      "execution_count": null,
      "outputs": [
        {
          "output_type": "stream",
          "name": "stdout",
          "text": [
            "[]\n"
          ]
        }
      ]
    },
    {
      "cell_type": "code",
      "source": [
        "import requests\n",
        "from bs4 import BeautifulSoup\n",
        "\n",
        "url = 'https://www.mercadolivre.com.br/fone-de-ouvido-over-ear-gamer-warrior-rama-ph219-preto-e-vermelho-com-luz-vermelho-led/p/MLB15342395?pdp_filters=category:MLB1664#reviews'\n",
        "\n",
        "response = requests.get(url)\n",
        "\n",
        "soup = BeautifulSoup(response.text, 'html.parser')\n",
        "\n",
        "comentarios = []\n",
        "\n",
        "avaliacoes = soup.find_all('div', class_ = 'infinite-scroll-component')\n",
        "\n",
        "for avaliacao in avaliacoes:\n",
        "    comentario = avaliacao.text.strip()\n",
        "    comentarios.append(comentario)\n",
        "\n",
        "print(comentarios)\n",
        "\n",
        "\n",
        "\n",
        "\n",
        "\n"
      ],
      "metadata": {
        "colab": {
          "base_uri": "https://localhost:8080/"
        },
        "id": "9kSGoQwYhU5x",
        "outputId": "2f68847f-4807-42c4-b3b4-3b3786b1e4fb"
      },
      "execution_count": null,
      "outputs": [
        {
          "output_type": "stream",
          "name": "stdout",
          "text": [
            "['522 set 2019Excelente headset, ja tive outros genéricos com o preço parecido, mas nunca era satisfatório, este headset tem um som muito limpo, ótimo grave, ótimo volume, o microfone funciona muito bem, o plug e p3 (1 único plug para fone e mic. ), se quiser usar em um pc, ele vem com o derivador de p3 para 2 pontas p2 que e o fone e o microfone separados. Estou usando em um ps4, e estou muito satisfeito. Recomendo mesmo, além de muito bonito ele e super confortável e não cansa a cabeça e as orelhas.É útil178 Denunciar 512 out 2020Ótimo para ps4,algumas observações lembrando que eu sou rígido e já escutei em muitos fones de ouvido: graves: 5,5.\\nMédio: 4,3.\\nAgudo: 4.\\nVolume: 10(nível 1 de altura).\\nConforto: 6,5.\\nEncaixe:4,5.\\nPerca de qualidade com música alta:20%.\\nCancelamento de quando bota o fone no ouvido sem escutar nada:4%.\\nCancelamento quando está em volume médio:45%.\\nQualidade do microfone do fone de ouvido: 7,5.\\nNível de percepção da pessoa que estou falando se falo através de um fone de ouvido ou não:8,5.\\nEco gerado para a pessoa que a escuta:0%.\\nEco gerado para mim mesmo pelo microfone do fone de ouvido:0%.\\nDesligamento inconvenientes e involuntários pelo próprio fone de ouvido durante a chamada: 0%.\\nQualidade do fone de ouvido em chamada (eu escutando a outra pessoa):7,0.\\nNível de fragilidade física para quebrar este fone de ouvido :5,5.\\nNível de fragilidade do fio do fone de ouvido com fio:5,5.\\nNivel de fragilidade a respingos de água para quebrar este fone de ouvido:2,5.\\nInterferência ou não sincronização de ambos lados funcionando ao mesmo tempo:0%.É útil163 Denunciar 427 mar 2020Pelo preço é um ótimo produto. Isola bem o som de fora, o volume/qualidade de audio não é tão bom quanto alguns headset gamers, mas atende muito bem. O microfone é muito bom, melhor do que esperava. E a qualidade do material do produto e designer dá uma segurança boa no uso. Recomendo para quem quer um bom fone por um valor baixo.É útil46 Denunciar']\n"
          ]
        }
      ]
    },
    {
      "cell_type": "code",
      "source": [
        "import requests\n",
        "from bs4 import BeautifulSoup\n",
        "\n",
        "url = 'https://www.mercadolivre.com.br/fone-de-ouvido-over-ear-gamer-havit-h2002d-black/p/MLB15345937?pdp_filters=category:MLB1664#searchVariation=MLB15345937&position=2&search_layout=grid&type=product&tracking_id=8b6f0ddd-8a55-4e6a-b856-2c5b812808a2'\n",
        "\n",
        "response = requests.get(url)\n",
        "\n",
        "soup = BeautifulSoup(response.text, 'html.parser')\n",
        "\n",
        "comentarios = []\n",
        "\n",
        "avaliacoes = soup.find_all('article', class_ = 'ui-review-capability-comments__comment')\n",
        "\n",
        "for avaliacao in avaliacoes:\n",
        "    comment_text = avaliacao.find('p', {'class': 'ui-review-capability-comments__comment__content'}).text.strip()\n",
        "    comentarios.append(comment_text)\n",
        "\n",
        "print(comentarios)\n",
        "\n"
      ],
      "metadata": {
        "colab": {
          "base_uri": "https://localhost:8080/"
        },
        "id": "X-5g1FAAn8AL",
        "outputId": "a754fd64-32ed-4530-810c-2b33d344217a"
      },
      "execution_count": null,
      "outputs": [
        {
          "output_type": "stream",
          "name": "stdout",
          "text": [
            "['Cara, gostei demais da qualidade do som. Eu uso pra jogar, uso pra editar som (edito música e talz, de forma amadora) e gostei demais. Consigo escutar diversas frequências e dá bastante confiança do que você escuta. Jogo bastante jogo de terror, e acho bem bacana a atmosfera que ele proporciona. Som cristalino, bem limpo mesmo. O que eu mais gostei foi a construção dele, é bem estável e dá muita confiança na hora de mexer. O corpo dele, é bem rígido e o isolamento é bem bacana, achei bem interessante. O cabo é bem confiável, é com uma cobertura de nylon e bem maleável. Corino de qualidade e dá bastante confiança. Só limpar depois de usar que deve durar bastante. Só acharia legal se os controles fossem no corpo dele, em vez de ser no cabo, com alguns modelos da redragon, mas é só tomar cuidado com o controle. Achei o botão de mute um pouco sensível (ativei o mute sem querer várias vezes), mas foi bem tranquilo pra depois me acostumar.\\nResumo: excelente custo benefício, gostei demais. Tô cuidando dele com bastante carinho pra poder o corino dele durar (sempre passo pano seco depois de usar), e tomo cuidado bastante com o cabo, para não exercer tração demais. Acredito que vá durar bastante!.', 'No geral o produto é excelente, mas estou com ele há duas semanas e estou notando que o haste do head, onde é parafusado, com o uso começa a soltar ficando um pouco frouxo (não sei se é assim do modelo), mas nada que atrapalhe.\\nO som é de boa qualidade, bem equilibrado nos graves e agudos. Já o microfone é muito bom com um som que pode agradar, mas recomendo que tenha uma placa de áudio, pois estou usando direto da placa mãe e fica um pouco de chiado, mas nada que atrapalhe nas ligações ou game play com os amigos.\\nPelo preço vale a pena a compra, mas ainda preferiria redragon zeus, pois você pode tirar o cabo e trocar por outras, mas para o meu bolso é um pouco mais caro.', 'Muito bom de qualidade show exelente 10.']\n"
          ]
        },
        {
          "output_type": "execute_result",
          "data": {
            "text/plain": [
              "3"
            ]
          },
          "metadata": {},
          "execution_count": 6
        }
      ]
    },
    {
      "cell_type": "code",
      "source": [
        "import requests\n",
        "from bs4 import BeautifulSoup\n",
        "\n",
        "url = 'https://lista.mercadolivre.com.br/havit-h2002d'\n",
        "response = requests.get(url)\n",
        "soup = BeautifulSoup(response.text, 'html.parser')\n",
        "\n",
        "produtos = soup.select('.ui-search-layout__item')\n",
        "\n",
        "for produto in produtos[:3]:\n",
        "    link_produto = produto.select_one('.ui-search-link')['href']\n",
        "    response_produto = requests.get(link_produto)\n",
        "    soup_produto = BeautifulSoup(response_produto.text, 'html.parser')\n",
        "    avaliacoes = soup_produto.select('.ui-pdp-review__review-container')\n",
        "\n",
        "    comentarios = []\n",
        "    for avaliacao in avaliacoes:\n",
        "        comentario = avaliacao.select_one('.ui-pdp-review__content').get_text(strip=True)\n",
        "        comentarios.append(comentario)\n",
        "\n",
        "    print(comentarios)"
      ],
      "metadata": {
        "colab": {
          "base_uri": "https://localhost:8080/"
        },
        "id": "Yc-fp_FzKfn3",
        "outputId": "a738c229-defe-4008-e4fc-52744d1f3de2"
      },
      "execution_count": null,
      "outputs": [
        {
          "output_type": "stream",
          "name": "stdout",
          "text": [
            "[]\n",
            "[]\n",
            "[]\n"
          ]
        }
      ]
    },
    {
      "cell_type": "code",
      "source": [
        "import requests\n",
        "from bs4 import BeautifulSoup\n",
        "#input do que o usario digitar\n",
        "pesquisa = str(input(\"oq deseja pesquisar?: \"))\n",
        "#faz uma requisição na ferramenta de pesquisa do mercado livre e gera o html da pagina com o que foi sigitado pelo usuário\n",
        "url = f'https://lista.mercadolivre.com.br/{pesquisa}'\n",
        "response = requests.get(url)\n",
        "soup = BeautifulSoup(response.text, 'html.parser')\n",
        "#seleciona os itens sugeridos pelo mercado livre, a partir da pesquisa\n",
        "produtos = soup.select('.ui-search-layout__item')\n",
        "\n",
        "comentarios = []\n",
        "\n",
        "#\n",
        "\n",
        "for produto in produtos:\n",
        "  link_produto = produto.select_one('.ui-search-link')['href']\n",
        "  response = requests.get(link_produto)\n",
        "  #\n",
        "  soup = BeautifulSoup(response.text, 'html.parser')\n",
        "\n",
        "  #\n",
        "\n",
        "  avaliacoes = soup.find_all('article', class_ = 'ui-review-capability-comments__comment')\n",
        "  #\n",
        "  for avaliacao in avaliacoes:\n",
        "      comment_text = avaliacao.find('p', {'class': 'ui-review-capability-comments__comment__content'}).text.strip()\n",
        "      comentarios.append(comment_text)\n",
        "#\n",
        "print(comentarios)\n",
        "print(len(comentarios))"
      ],
      "metadata": {
        "colab": {
          "base_uri": "https://localhost:8080/"
        },
        "id": "ZYIIxqN1LE4V",
        "outputId": "2daffb22-b115-4557-f813-5189df8dd53f"
      },
      "execution_count": 1,
      "outputs": [
        {
          "output_type": "stream",
          "name": "stdout",
          "text": [
            "oq deseja pesquisar?: mouse redragon\n",
            "['Uso o dia todo e gostei muito, super confortável. Super indico.', 'Ótimo.', 'Perfeito ! após pesquisa, este mouse superou expectativas.', 'Ótimo mouse, sou designer e jogo alguns jogos e pra quem pensa em ter esse mouse, recomendo viu? maravilhosa a pegada, que é \"palm\" e é o fio do mouse além de ser resistente de \"náilon\" é super leve, e entrada usb dourada, os leds são ótimos e tem vários modos, enfim, uma ótima aquisição, e por um bom preço pra todas as especificações que ele tem.', 'As cores do rgb são ainda mais vivas do que parecem. Plug and play total, o aplicativo é intuitivo e fácil de usar(melhor configurar resolução por lá do que pela central de mouse do windows). Barato, bate de frente com mouses que comprei por mais de mil reais. Tem um excelente desempenho em jogos fps, funciona bem como mouse de trabalho e o cabo é visivelmente resistente, com bons materiais no conector usb(não fica agarrando na entrada ou entortando). Nessa faixa de preço, com rgb e nessa resolução, eu nem consideraria outro mouse.', 'A princípio parece ser um plástico de má qualidade mas com o uso você percebe esse plástico tem objetivo de deixar o mouse mais leve além disso o plástico e o cabo são muito resistentes só a elogiar, tirando o software q poderia ser um só pra todos os produtos redragon.', 'Muito bom, muito fácil de utilizar os botões para aumentar e diminuir o dpi sem ter que configurar no software. Pode utilizar um botão para mudar o esquema de cores que já vem pré-definido ou ir até o software do mouse e configurar de acordo com o seu gosto, as cores são bem vivas, fica muito bonito.\\nA pegada no mouse é ótima e o material dele deixa sua mão bem confortável.', 'O mouse é super confortável, com uma resistência boa e uma liberdade bem grande quando o assunto é customização. É bonito e simples, o cabo é forte e o usb é banhado a ouro. O software é a melhor parte, vc pode modificar o brilho das luzes e a velocidade, e em alguns casos, até mudar a cor. O mouse é perfeito. O redragon cobra já é incrível, mas se vc quiser algo mais competitivo, o king cobra é oq vc procura.', 'Produto parou de funcionar , acionei a garantia pois o produto está novo , não responderam minha mensagem nem nada ! favor me responder pois quero fazer a troca !.', 'Mouse pesado que não sai deslizando por todo lado, bem preciso, tem um software que se vc baixa e instala você tem basicamente 100% personalização do mouse, botões,cores, recomendo 100%.', 'Mouse excelente. Tem um peso adequado, não precisei reduzir a quantidade de peso que vem nele, luzes com cores oscilantes que não atrapalham, possui uma textura tipo emborrachada que facilita o manuseio e a precisão dele é muito boa. Ideal para uma mão mediana. Recomendo muito!!!.', 'A parte dos clicks tem uma superficie aspera que para algumas pessoas pode ser um problema, nao é o meu caso. Eu gostei bastante. Qualidade excelente, pra quem tem uma mao maior que o considerado \"padrao\" o mouse pode tornar se pequeno e vc sentir incomodo ao usar. Novamente nao é o meu caso. Eu amei o mouse, os leds, tons de cor. Enfim, comprei outro futuramtente da marca por questoes de consumismo mesmo hahaha.', 'Eu comprei um desses até entao perfeito porem quando fui jogar e realmente por em uso os botoes eu percebi que o botao da esquerda tranca embaixo de alguma borda ou canto dentro do mouse n sei exatamente oq mas ele trava la e fica abaixado. Imagina que vc precisa dar varios clicks em algum momento porem em um desses clicks o botao desce e nao volta mais. Eu poderia ter devolvido mas como tenho mania de arrumar as coisas fui ver oq era e a unicao solucao foi soltar os 2 parafusos da frente pois quando esta parafusado acaba deixando o espaço interno menor do que deveria fazendo com que uma parte esfregue na outra e nesse caso essa parte vai pro canto e tranca, estou comentando pq pode ser uma forma padrao pra todos desse tipo e todos eles podem estar com o mesmo problema entao isso acaba sendo util pra ambas partes.', 'Mouse muito bom, qualidade boa, gostei muito da aquisição ????????.', 'Muito bom recomendo.', 'Meu filho adorou.', 'Exelente mouse recomendo. .', 'O que mais chama a atenção é o visual, os leds são realmente muito bonitos. Ele tem um peso e um tamanho muito agradável, a parte de baixo é em teflon especial, ajuda muito no deslize.\\nO botão de troca de dpi in-game é bem útil, mas não vi utilidade na de troca do modo de iluminação, por isso troquei sua função utilizando o software disponibilizado pela fabricante.\\nEsse, inclusive, é um dos pontos fortes. Software muito bom e completo, com macros, modos de iluminação personalizados, dpi personalizável e até frequência do sensor.\\nOutro detalhe é o botão em baixo do mouse, serve pra trocar o perfil. O programa te permite ter até 5 perfis.', 'O mouse é muito bom! o click é macio e não barulhento, encaixa muito confortavelmente na mão. Se você usa o mouse o dia inteiro, então essa é uma ótima opção.\\nAs cores das luzes são bem bonitas; tem como configura-las no app da marca, o que foi bem fácil de fazer (mas acho que só tem para baixar no pc).\\nO cabo é longo e de boa qualidade. Parece que vai durar por muito tempo.\\nCompraria de novo e recomendo :d.', 'Mouse redragon grifin m607 preto rgb, o mouse é muito bem feito tem uma qualidade muito boa, além de ser bem bonito, ouvir dizer que ele não é bom para jogos porque o sensor dele é meio ruim pra jogar principalmente fps. Mais como eu não uso pra jogar pra mim foi perfeito, uso apenas pra editar vídeos e uso nomal de todo pc. Os leds dele são otimos e os efeitos é maravilhoso tem uma grande opção de personalizar as cores e efeitos. Os 7 botões tbm dá pra personalizar pelo software da redragron e em resumo se vc quer o mouse que não seja pra jogos fps eu recomendo!.', 'Já conhecia o mouse da redragon. Esse modelo é muito bom e todo configurável. Recomendo!.', 'Produto muito bom.', 'Amei o produto pena q o plástico é tão bom q fica com umas marquinhas d uso kkkk mas ele é sensacional vale a pena comprar.', 'É perfeito, tem uma sensação ótima ao pegar! o que não é tão legal quanto outros da categoria é a iluminação, na minha opinião! mas como isso não afeta desempenho, que é o que importa, é 5 estrelas memo.', 'Simplesmente o melhor mouse ultra leve custo benefício do mercado, um dos melhores sensores que eu ja vi, software facil e intuitivo, conforto e ergonomia impecavel, e uma precisao monstruosa, se vc ta procurando um mouse muito bom e barato, vc achou o produto certo, 0 arrependimentos.', 'Atendeu as minhas expectativas , recomendo pra quem ta começando em fps e nao quer gastar muito.', 'Já é o segundo do mesmo modelo que compro pelo motivo de ser confortável e durável.', 'Eu achei o produto perfeito para jogos.', 'Gostei muito bem mas fluindo e os dpi são reguláveis então ajuda muito dependendo do trabalho q vc estar fazendo. Recomendo.', 'Muito bom mesmo.', 'Eu gostei muito posso adaptar a cor que eu quero muito bom recomendo.', 'Veio impecável.', 'Ótimo produto, comprei para meu filho e ele adorou!.', 'Excelente, meu filho está muito satisfeito.', 'Mouse funciona bem, pegada muito boa e material agradável ao toque.', 'Quase 1 mês de uso e o mouse é ótimo.\\nClique tranquilo, a pegada, ergonomia é ótima (a minha é palm).\\nPara quem é canhoto é ótimo pois ele é ambidestro.\\nO designe dele é lindo, tanto no formato quanto nos leds.\\nCabo longo. Programa dele (que pode ser baixado no site da redragon) funciona muito bem e vc pode criar perfis com suas configurações, e mudar apertando um único botão na parte inferior do mouse.\\nO sensor dele é ótimo. Anteriormente eu usava um mouse com sensor laser, e era muito ruim de usar, pois ele não rastreia com precisão a superfície. Já esse óptico desse mouse é muito bom e preciso. Então no meu caso o ganho em desempenho foi muito satisfatório.\\nEle contem pesos dentro dele, que vc pode retirar para deixa-lo mais leve, porém ele não é tão pesado como outros q tem no mercado para quem gosta de um mouse pesado.', 'Excelente mouse, muito confortável e permite ajustar o peso através da retirada dos contrapesos embaixo dele, o que faz com que você customize o mouse de acordo com o seu gosto. Os efeitos luminosos são muito interessantes, possibilidade de configurar 3 perfis (com funções diferentes para cada botão por perfil) é excelente, e tem uma função de gravação de macros no programa da redragon que é excelente, ajudando tanto em games quanto produtividade no trabalho. É o primeiro mouse gamer que utilizo e estou totalmente satisfeito com o produto.', 'O mouse é maravilhoso e o controle de peso que ele tem faz muita diferença, tive um problema com o software mas era só a entrada usb que não estava reconhecendo o mouse (mesmo com ele conectado e funcionando). Ele vale cada centavo, achei que ia me arrepender pois mói mouse antigo ainda estava funcionando, mas ele superou as minhas expectativas e isso que uso para o dia a dia e edição de fotos. O custo benefício dele é ótimo.']\n",
            "38\n"
          ]
        }
      ]
    }
  ]
}